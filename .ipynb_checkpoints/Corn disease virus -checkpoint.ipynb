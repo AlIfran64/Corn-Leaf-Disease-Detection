{
 "cells": [
  {
   "cell_type": "code",
   "execution_count": 3,
   "id": "d557a571",
   "metadata": {},
   "outputs": [
    {
     "ename": "ModuleNotFoundError",
     "evalue": "No module named 'cv2'",
     "output_type": "error",
     "traceback": [
      "\u001b[1;31m---------------------------------------------------------------------------\u001b[0m",
      "\u001b[1;31mModuleNotFoundError\u001b[0m                       Traceback (most recent call last)",
      "\u001b[1;32m~\\AppData\\Local\\Temp/ipykernel_5252/492203348.py\u001b[0m in \u001b[0;36m<module>\u001b[1;34m\u001b[0m\n\u001b[0;32m      3\u001b[0m \u001b[1;32mimport\u001b[0m \u001b[0mnumpy\u001b[0m \u001b[1;32mas\u001b[0m \u001b[0mnp\u001b[0m\u001b[1;33m\u001b[0m\u001b[1;33m\u001b[0m\u001b[0m\n\u001b[0;32m      4\u001b[0m \u001b[1;32mfrom\u001b[0m \u001b[0mtqdm\u001b[0m \u001b[1;32mimport\u001b[0m \u001b[0mtqdm\u001b[0m\u001b[1;33m\u001b[0m\u001b[1;33m\u001b[0m\u001b[0m\n\u001b[1;32m----> 5\u001b[1;33m \u001b[1;32mimport\u001b[0m \u001b[0mcv2\u001b[0m\u001b[1;33m\u001b[0m\u001b[1;33m\u001b[0m\u001b[0m\n\u001b[0m\u001b[0;32m      6\u001b[0m \u001b[1;32mfrom\u001b[0m \u001b[0mcollections\u001b[0m \u001b[1;32mimport\u001b[0m \u001b[0mdefaultdict\u001b[0m\u001b[1;33m\u001b[0m\u001b[1;33m\u001b[0m\u001b[0m\n\u001b[0;32m      7\u001b[0m \u001b[1;32mfrom\u001b[0m \u001b[0murllib\u001b[0m \u001b[1;32mimport\u001b[0m \u001b[0mrequest\u001b[0m\u001b[1;33m\u001b[0m\u001b[1;33m\u001b[0m\u001b[0m\n",
      "\u001b[1;31mModuleNotFoundError\u001b[0m: No module named 'cv2'"
     ]
    }
   ],
   "source": [
    "import json\n",
    "import pandas as pd\n",
    "import numpy as np\n",
    "from tqdm import tqdm\n",
    "import cv2\n",
    "from collections import defaultdict\n",
    "from urllib import request\n",
    "import os\n",
    "import pandas as pd\n",
    "import numpy as np\n",
    "from urllib import request\n",
    "#import cv2\n",
    "from tqdm import tqdm\n",
    "from collections import Counter\n",
    "import matplotlib.pyplot as plt\n",
    "from sklearn.model_selection import train_test_split\n",
    "import tensorflow as tf\n",
    "from tensorflow.keras.layers import Dropout,Dense\n",
    "from keras.models import Model\n",
    "from keras.callbacks import EarlyStopping,ModelCheckpoint\n",
    "import os\n",
    "from tensorflow.keras.applications import VGG16\n",
    "import json\n",
    "from sklearn import preprocessing\n",
    "from sklearn.preprocessing import OrdinalEncoder\n",
    "import tensorflow\n",
    "import tensorflow as tf\n",
    "from collections import deque"
   ]
  },
  {
   "cell_type": "code",
   "execution_count": 4,
   "id": "5ce2dc38",
   "metadata": {},
   "outputs": [
    {
     "ename": "SyntaxError",
     "evalue": "invalid syntax (Temp/ipykernel_5252/313879228.py, line 1)",
     "output_type": "error",
     "traceback": [
      "\u001b[1;36m  File \u001b[1;32m\"C:\\Users\\Rifat\\AppData\\Local\\Temp/ipykernel_5252/313879228.py\"\u001b[1;36m, line \u001b[1;32m1\u001b[0m\n\u001b[1;33m    file_ path ='C:\\Users\\Rifat\\Desktop\\Machine learning\\Corn disease(leaf)  virus\\data'\u001b[0m\n\u001b[1;37m          ^\u001b[0m\n\u001b[1;31mSyntaxError\u001b[0m\u001b[1;31m:\u001b[0m invalid syntax\n"
     ]
    }
   ],
   "source": [
    "file_ path ='C:\\Users\\Rifat\\Desktop\\Machine learning\\Corn disease(leaf)  virus\\data'"
   ]
  },
  {
   "cell_type": "code",
   "execution_count": 5,
   "id": "3e9078a9",
   "metadata": {},
   "outputs": [
    {
     "name": "stdout",
     "output_type": "stream",
     "text": [
      "Collecting split_folders\n",
      "  Downloading split_folders-0.5.1-py3-none-any.whl (8.4 kB)\n",
      "Installing collected packages: split-folders\n",
      "Successfully installed split-folders-0.5.1\n"
     ]
    }
   ],
   "source": [
    "!pip install split_folders"
   ]
  },
  {
   "cell_type": "code",
   "execution_count": 6,
   "id": "d1e34eac",
   "metadata": {},
   "outputs": [
    {
     "ename": "NameError",
     "evalue": "name 'file_path' is not defined",
     "output_type": "error",
     "traceback": [
      "\u001b[1;31m---------------------------------------------------------------------------\u001b[0m",
      "\u001b[1;31mNameError\u001b[0m                                 Traceback (most recent call last)",
      "\u001b[1;32m~\\AppData\\Local\\Temp/ipykernel_5252/3984376508.py\u001b[0m in \u001b[0;36m<module>\u001b[1;34m\u001b[0m\n\u001b[0;32m      1\u001b[0m \u001b[1;32mimport\u001b[0m \u001b[0msplitfolders\u001b[0m\u001b[1;33m\u001b[0m\u001b[1;33m\u001b[0m\u001b[0m\n\u001b[0;32m      2\u001b[0m \u001b[0msplitted_folder\u001b[0m\u001b[1;33m=\u001b[0m\u001b[1;34m'../output/corn-or-maize-leaf-disease-dataset/splitted_folder'\u001b[0m\u001b[1;33m\u001b[0m\u001b[1;33m\u001b[0m\u001b[0m\n\u001b[1;32m----> 3\u001b[1;33m \u001b[1;32mdef\u001b[0m \u001b[0mtrain_test_valid\u001b[0m\u001b[1;33m(\u001b[0m\u001b[0mtrain_size\u001b[0m\u001b[1;33m=\u001b[0m\u001b[1;36m0.6\u001b[0m\u001b[1;33m,\u001b[0m\u001b[0mtest_size\u001b[0m\u001b[1;33m=\u001b[0m\u001b[1;36m0.2\u001b[0m\u001b[1;33m,\u001b[0m\u001b[0mval_size\u001b[0m\u001b[1;33m=\u001b[0m\u001b[1;36m0.2\u001b[0m\u001b[1;33m,\u001b[0m\u001b[0mimages_folder\u001b[0m\u001b[1;33m=\u001b[0m\u001b[0mfile_path\u001b[0m\u001b[1;33m,\u001b[0m\u001b[0msplitted_folder\u001b[0m\u001b[1;33m=\u001b[0m\u001b[0msplitted_folder\u001b[0m\u001b[1;33m)\u001b[0m\u001b[1;33m:\u001b[0m\u001b[1;33m\u001b[0m\u001b[1;33m\u001b[0m\u001b[0m\n\u001b[0m\u001b[0;32m      4\u001b[0m   \u001b[0mtrain_size\u001b[0m \u001b[1;33m=\u001b[0m \u001b[0mtrain_size\u001b[0m\u001b[1;33m\u001b[0m\u001b[1;33m\u001b[0m\u001b[0m\n\u001b[0;32m      5\u001b[0m   \u001b[0mtest_size\u001b[0m \u001b[1;33m=\u001b[0m \u001b[0mtest_size\u001b[0m\u001b[1;33m\u001b[0m\u001b[1;33m\u001b[0m\u001b[0m\n",
      "\u001b[1;31mNameError\u001b[0m: name 'file_path' is not defined"
     ]
    }
   ],
   "source": [
    "import splitfolders\n",
    "splitted_folder='C:\\Users\\Rifat\\Desktop\\Machine learning\\Corn disease(leaf)  virus\\datab'\n",
    "def train_test_valid(train_size=0.6,test_size=0.2,val_size=0.2,images_folder=file_path,splitted_folder=splitted_folder):\n",
    "  train_size = train_size\n",
    "  test_size = test_size\n",
    "  val_size = val_size\n",
    "  input_folder = images_folder\n",
    "  output_folder = splitted_folder\n",
    "  splitfolders.ratio(input_folder,output_folder, seed = 1337, ratio = (train_size,test_size,val_size), group_prefix = None)\n",
    "train_test_valid()"
   ]
  },
  {
   "cell_type": "code",
   "execution_count": null,
   "id": "76e4e214",
   "metadata": {},
   "outputs": [],
   "source": [
    "from tensorflow.keras.preprocessing.image import ImageDataGenerator\n",
    "\n",
    "train_file_path = '../output/corn-or-maize-leaf-disease-dataset/splitted_folder/train'\n",
    "test_file_path =  '../output/corn-or-maize-leaf-disease-dataset/splitted_folder/test'\n",
    "val_file_path =  '../output/corn-or-maize-leaf-disease-dataset/splitted_folder/val'\n",
    "\n",
    "def data_pre_processing(valid_split = 0,input_size = (260, 260),image_color = 'rgb',batch_size = 32,\n",
    "                        shuffle=True):\n",
    "\n",
    "\n",
    "    train_gen=ImageDataGenerator(rescale=1/255.0,validation_split=valid_split,fill_mode='nearest',rotation_range=40,horizontal_flip=True)\n",
    "\n",
    "    validation_gen=ImageDataGenerator(rescale=1/255.0,validation_split=valid_split)\n",
    "\n",
    "    test_gen=ImageDataGenerator(rescale=1/255.0)\n",
    "\n",
    "    train_data=train_gen.flow_from_directory(directory=train_file_path,target_size=input_size,color_mode=image_color,\n",
    "                                             batch_size=batch_size,shuffle=shuffle,class_mode='categorical')\n",
    "    test_data=test_gen.flow_from_directory(directory=test_file_path,target_size=input_size,color_mode=image_color,\n",
    "                                             batch_size=batch_size,shuffle=shuffle,class_mode='categorical')\n",
    "    valid_data=validation_gen.flow_from_directory(directory=val_file_path,target_size=input_size,color_mode=image_color,\n",
    "                                             batch_size=batch_size,shuffle=shuffle,class_mode='categorical')\n",
    "\n",
    "    return train_data,test_data,valid_data\n",
    "\n",
    "train,test,validation=data_pre_processing()\n"
   ]
  },
  {
   "cell_type": "code",
   "execution_count": null,
   "id": "88c7dff1",
   "metadata": {},
   "outputs": [],
   "source": [
    "values_counter=Counter(train.classes)\n",
    "sorted(values_counter.items())\n",
    "plt.bar(train.class_indices.keys(), values_counter.values(), color=(1, 0.1, 0.1, 0.6))\n",
    "plt.xticks(rotation=90)\n",
    "plt.show()"
   ]
  },
  {
   "cell_type": "code",
   "execution_count": null,
   "id": "23cb8e94",
   "metadata": {},
   "outputs": [],
   "source": [
    "labels=dict()\n",
    "for label_name,label_num in train.class_indices.items():\n",
    "        labels[label_num]=label_name"
   ]
  },
  {
   "cell_type": "code",
   "execution_count": null,
   "id": "578b6403",
   "metadata": {},
   "outputs": [],
   "source": [
    "plt.figure(figsize=(10,10))\n",
    "for i in tqdm(range(9)):\n",
    "    plt.subplot(3,3,i+1)\n",
    "    for x_batch,y_batch in train:\n",
    "        image=x_batch[0]\n",
    "        argmax=np.argmax(y_batch)\n",
    "        plt.tight_layout(h_pad=5)\n",
    "        plt.title(labels[argmax])\n",
    "        plt.xticks(())\n",
    "        plt.yticks(())\n",
    "        plt.imshow(image)\n",
    "        break"
   ]
  },
  {
   "cell_type": "code",
   "execution_count": 8,
   "id": "b8a23645",
   "metadata": {},
   "outputs": [
    {
     "name": "stdout",
     "output_type": "stream",
     "text": [
      "Requirement already satisfied: efficientnet in c:\\users\\rifat\\anaconda3\\lib\\site-packages (1.1.1)\n",
      "Requirement already satisfied: keras-applications<=1.0.8,>=1.0.7 in c:\\users\\rifat\\anaconda3\\lib\\site-packages (from efficientnet) (1.0.8)\n",
      "Requirement already satisfied: scikit-image in c:\\users\\rifat\\anaconda3\\lib\\site-packages (from efficientnet) (0.18.3)\n",
      "Requirement already satisfied: numpy>=1.9.1 in c:\\users\\rifat\\anaconda3\\lib\\site-packages (from keras-applications<=1.0.8,>=1.0.7->efficientnet) (1.20.3)\n",
      "Requirement already satisfied: h5py in c:\\users\\rifat\\anaconda3\\lib\\site-packages (from keras-applications<=1.0.8,>=1.0.7->efficientnet) (3.2.1)\n",
      "Requirement already satisfied: scipy>=1.0.1 in c:\\users\\rifat\\anaconda3\\lib\\site-packages (from scikit-image->efficientnet) (1.7.1)\n",
      "Requirement already satisfied: matplotlib!=3.0.0,>=2.0.0 in c:\\users\\rifat\\anaconda3\\lib\\site-packages (from scikit-image->efficientnet) (3.4.3)\n",
      "Requirement already satisfied: networkx>=2.0 in c:\\users\\rifat\\anaconda3\\lib\\site-packages (from scikit-image->efficientnet) (2.6.3)\n",
      "Requirement already satisfied: pillow!=7.1.0,!=7.1.1,>=4.3.0 in c:\\users\\rifat\\anaconda3\\lib\\site-packages (from scikit-image->efficientnet) (8.4.0)\n",
      "Requirement already satisfied: imageio>=2.3.0 in c:\\users\\rifat\\anaconda3\\lib\\site-packages (from scikit-image->efficientnet) (2.9.0)\n",
      "Requirement already satisfied: tifffile>=2019.7.26 in c:\\users\\rifat\\anaconda3\\lib\\site-packages (from scikit-image->efficientnet) (2021.7.2)\n",
      "Requirement already satisfied: PyWavelets>=1.1.1 in c:\\users\\rifat\\anaconda3\\lib\\site-packages (from scikit-image->efficientnet) (1.1.1)\n",
      "Requirement already satisfied: kiwisolver>=1.0.1 in c:\\users\\rifat\\anaconda3\\lib\\site-packages (from matplotlib!=3.0.0,>=2.0.0->scikit-image->efficientnet) (1.3.1)\n",
      "Requirement already satisfied: pyparsing>=2.2.1 in c:\\users\\rifat\\anaconda3\\lib\\site-packages (from matplotlib!=3.0.0,>=2.0.0->scikit-image->efficientnet) (3.0.4)\n",
      "Requirement already satisfied: python-dateutil>=2.7 in c:\\users\\rifat\\anaconda3\\lib\\site-packages (from matplotlib!=3.0.0,>=2.0.0->scikit-image->efficientnet) (2.8.2)\n",
      "Requirement already satisfied: cycler>=0.10 in c:\\users\\rifat\\anaconda3\\lib\\site-packages (from matplotlib!=3.0.0,>=2.0.0->scikit-image->efficientnet) (0.10.0)\n",
      "Requirement already satisfied: six in c:\\users\\rifat\\anaconda3\\lib\\site-packages (from cycler>=0.10->matplotlib!=3.0.0,>=2.0.0->scikit-image->efficientnet) (1.16.0)\n"
     ]
    },
    {
     "ename": "ModuleNotFoundError",
     "evalue": "No module named 'tensorflow'",
     "output_type": "error",
     "traceback": [
      "\u001b[1;31m---------------------------------------------------------------------------\u001b[0m",
      "\u001b[1;31mModuleNotFoundError\u001b[0m                       Traceback (most recent call last)",
      "\u001b[1;32m~\\AppData\\Local\\Temp/ipykernel_5252/2303462289.py\u001b[0m in \u001b[0;36m<module>\u001b[1;34m\u001b[0m\n\u001b[0;32m      1\u001b[0m \u001b[0mget_ipython\u001b[0m\u001b[1;33m(\u001b[0m\u001b[1;33m)\u001b[0m\u001b[1;33m.\u001b[0m\u001b[0msystem\u001b[0m\u001b[1;33m(\u001b[0m\u001b[1;34m'pip install  efficientnet'\u001b[0m\u001b[1;33m)\u001b[0m\u001b[1;33m\u001b[0m\u001b[1;33m\u001b[0m\u001b[0m\n\u001b[1;32m----> 2\u001b[1;33m \u001b[1;32mimport\u001b[0m \u001b[0mefficientnet\u001b[0m\u001b[1;33m.\u001b[0m\u001b[0mtfkeras\u001b[0m \u001b[1;32mas\u001b[0m \u001b[0menet\u001b[0m\u001b[1;33m\u001b[0m\u001b[1;33m\u001b[0m\u001b[0m\n\u001b[0m",
      "\u001b[1;32m~\\anaconda3\\lib\\site-packages\\efficientnet\\tfkeras.py\u001b[0m in \u001b[0;36m<module>\u001b[1;34m\u001b[0m\n\u001b[0;32m      4\u001b[0m \u001b[1;32mfrom\u001b[0m \u001b[1;33m.\u001b[0m\u001b[0mpreprocessing\u001b[0m \u001b[1;32mimport\u001b[0m \u001b[0mcenter_crop_and_resize\u001b[0m\u001b[1;33m\u001b[0m\u001b[1;33m\u001b[0m\u001b[0m\n\u001b[0;32m      5\u001b[0m \u001b[1;33m\u001b[0m\u001b[0m\n\u001b[1;32m----> 6\u001b[1;33m \u001b[0mEfficientNetB0\u001b[0m \u001b[1;33m=\u001b[0m \u001b[0minject_tfkeras_modules\u001b[0m\u001b[1;33m(\u001b[0m\u001b[0mmodel\u001b[0m\u001b[1;33m.\u001b[0m\u001b[0mEfficientNetB0\u001b[0m\u001b[1;33m)\u001b[0m\u001b[1;33m\u001b[0m\u001b[1;33m\u001b[0m\u001b[0m\n\u001b[0m\u001b[0;32m      7\u001b[0m \u001b[0mEfficientNetB1\u001b[0m \u001b[1;33m=\u001b[0m \u001b[0minject_tfkeras_modules\u001b[0m\u001b[1;33m(\u001b[0m\u001b[0mmodel\u001b[0m\u001b[1;33m.\u001b[0m\u001b[0mEfficientNetB1\u001b[0m\u001b[1;33m)\u001b[0m\u001b[1;33m\u001b[0m\u001b[1;33m\u001b[0m\u001b[0m\n\u001b[0;32m      8\u001b[0m \u001b[0mEfficientNetB2\u001b[0m \u001b[1;33m=\u001b[0m \u001b[0minject_tfkeras_modules\u001b[0m\u001b[1;33m(\u001b[0m\u001b[0mmodel\u001b[0m\u001b[1;33m.\u001b[0m\u001b[0mEfficientNetB2\u001b[0m\u001b[1;33m)\u001b[0m\u001b[1;33m\u001b[0m\u001b[1;33m\u001b[0m\u001b[0m\n",
      "\u001b[1;32m~\\anaconda3\\lib\\site-packages\\efficientnet\\__init__.py\u001b[0m in \u001b[0;36minject_tfkeras_modules\u001b[1;34m(func)\u001b[0m\n\u001b[0;32m     48\u001b[0m \u001b[1;33m\u001b[0m\u001b[0m\n\u001b[0;32m     49\u001b[0m \u001b[1;32mdef\u001b[0m \u001b[0minject_tfkeras_modules\u001b[0m\u001b[1;33m(\u001b[0m\u001b[0mfunc\u001b[0m\u001b[1;33m)\u001b[0m\u001b[1;33m:\u001b[0m\u001b[1;33m\u001b[0m\u001b[1;33m\u001b[0m\u001b[0m\n\u001b[1;32m---> 50\u001b[1;33m     \u001b[1;32mimport\u001b[0m \u001b[0mtensorflow\u001b[0m\u001b[1;33m.\u001b[0m\u001b[0mkeras\u001b[0m \u001b[1;32mas\u001b[0m \u001b[0mtfkeras\u001b[0m\u001b[1;33m\u001b[0m\u001b[1;33m\u001b[0m\u001b[0m\n\u001b[0m\u001b[0;32m     51\u001b[0m     \u001b[1;33m@\u001b[0m\u001b[0mfunctools\u001b[0m\u001b[1;33m.\u001b[0m\u001b[0mwraps\u001b[0m\u001b[1;33m(\u001b[0m\u001b[0mfunc\u001b[0m\u001b[1;33m)\u001b[0m\u001b[1;33m\u001b[0m\u001b[1;33m\u001b[0m\u001b[0m\n\u001b[0;32m     52\u001b[0m     \u001b[1;32mdef\u001b[0m \u001b[0mwrapper\u001b[0m\u001b[1;33m(\u001b[0m\u001b[1;33m*\u001b[0m\u001b[0margs\u001b[0m\u001b[1;33m,\u001b[0m \u001b[1;33m**\u001b[0m\u001b[0mkwargs\u001b[0m\u001b[1;33m)\u001b[0m\u001b[1;33m:\u001b[0m\u001b[1;33m\u001b[0m\u001b[1;33m\u001b[0m\u001b[0m\n",
      "\u001b[1;31mModuleNotFoundError\u001b[0m: No module named 'tensorflow'"
     ]
    }
   ],
   "source": [
    "!pip install  efficientnet\n",
    "import efficientnet.tfkeras as enet"
   ]
  },
  {
   "cell_type": "code",
   "execution_count": null,
   "id": "67579d3b",
   "metadata": {},
   "outputs": [],
   "source": [
    "def configure_model():\n",
    "  inputs_1 = tf.keras.Input(shape=(260, 260, 3))\n",
    "  mymodel=enet.EfficientNetB2(input_shape = (260, 260, 3), include_top = False, weights = 'imagenet')\n",
    "  x = tf.keras.layers.AveragePooling2D(pool_size=(7, 7))(mymodel.output)\n",
    "  x = tf.keras.layers.Flatten()(x)\n",
    "  predictors = tf.keras.layers.Dense(4,activation='softmax',name='Predictions')(x)\n",
    "  final_model = Model(mymodel.input, outputs=predictors)\n",
    "  return final_model\n",
    "final_model=configure_model()"
   ]
  },
  {
   "cell_type": "code",
   "execution_count": null,
   "id": "becc667e",
   "metadata": {},
   "outputs": [],
   "source": [
    "def model(new_model=final_model,layers_num=1,trainable=False):\n",
    "    for layer in new_model.layers[:layers_num]:\n",
    "        layer.trainable=trainable\n",
    "    return new_model\n",
    "final_model=model(final_model)"
   ]
  },
  {
   "cell_type": "code",
   "execution_count": null,
   "id": "7d6b6a8d",
   "metadata": {},
   "outputs": [],
   "source": [
    "def scheduler(epoch, lr):\n",
    "  if epoch < 3:\n",
    "    return lr\n",
    "  else:\n",
    "    return lr * tf.math.exp(-0.1)"
   ]
  },
  {
   "cell_type": "code",
   "execution_count": null,
   "id": "dd521a92",
   "metadata": {},
   "outputs": [],
   "source": [
    "opt=tf.keras.optimizers.Adam(0.0001)\n",
    "final_model.compile(optimizer=opt,loss='categorical_crossentropy',metrics=['accuracy'])"
   ]
  },
  {
   "cell_type": "code",
   "execution_count": null,
   "id": "46e6dc16",
   "metadata": {},
   "outputs": [],
   "source": [
    "def callbacks(patience=2):\n",
    "    checkpoint = tf.keras.callbacks.ModelCheckpoint('my_model.h5', monitor='val_loss', verbose=1, save_best_only=True, save_weights_only=True)\n",
    "    early=tf.keras.callbacks.EarlyStopping(monitor='val_loss',patience=patience,min_delta=0.001)\n",
    "    lr=tf.keras.callbacks.LearningRateScheduler(scheduler)\n",
    "    callbacks_list=[checkpoint, early,lr]\n",
    "    return callbacks_list"
   ]
  },
  {
   "cell_type": "code",
   "execution_count": null,
   "id": "1ee3f7cf",
   "metadata": {},
   "outputs": [],
   "source": [
    "callbacks=callbacks()"
   ]
  },
  {
   "cell_type": "code",
   "execution_count": null,
   "id": "06384f01",
   "metadata": {},
   "outputs": [],
   "source": [
    "counter = Counter(train.classes)                          \n",
    "max_val = float(max(counter.values()))       \n",
    "class_weights1 = {class_id : max_val/num_images for class_id, num_images in counter.items()}  "
   ]
  },
  {
   "cell_type": "code",
   "execution_count": null,
   "id": "ad876321",
   "metadata": {},
   "outputs": [],
   "source": [
    "hist=final_model.fit(train,epochs=1000,validation_data=(validation),callbacks=callbacks,class_weight=class_weights1)"
   ]
  },
  {
   "cell_type": "code",
   "execution_count": null,
   "id": "f34d073e",
   "metadata": {},
   "outputs": [],
   "source": [
    "plt.figure(figsize=(10, 10))\n",
    "plt.plot(hist.history['accuracy'])\n",
    "plt.plot(hist.history['val_accuracy'])\n",
    "plt.title(\"model accuracy\")\n",
    "plt.ylabel(\"Accuracy\")\n",
    "plt.xlabel(\"Epochs\")\n",
    "plt.legend([\"accuracy\",\"Validation Loss\"])\n",
    "plt.show()"
   ]
  },
  {
   "cell_type": "code",
   "execution_count": null,
   "id": "13a08c1c",
   "metadata": {},
   "outputs": [],
   "source": [
    "plt.figure(figsize=(10, 10))\n",
    "plt.plot(hist.history['loss'])\n",
    "plt.plot(hist.history['val_loss'])\n",
    "plt.title(\"model loss\")\n",
    "plt.ylabel(\"Loss\")\n",
    "plt.xlabel(\"Epochs\")\n",
    "plt.legend([\"loss\",\"Validation Loss\"])\n",
    "plt.show()"
   ]
  },
  {
   "cell_type": "code",
   "execution_count": null,
   "id": "cae11a6a",
   "metadata": {},
   "outputs": [],
   "source": [
    "y_real=[]\n",
    "all_pred=[]\n",
    "count=0\n",
    "for x,y in test:\n",
    "  predict=final_model.predict(x)\n",
    "  \n",
    "  for i in predict:\n",
    "    all_pred.append(np.argmax(i)+1)\n",
    "  for i in y:\n",
    "    i=np.argmax(i)+1\n",
    "    y_real.append(i)\n",
    "\n",
    "  if len(y_real)==len(test.filepaths):\n",
    "    break"
   ]
  },
  {
   "cell_type": "code",
   "execution_count": null,
   "id": "53232015",
   "metadata": {},
   "outputs": [],
   "source": [
    "target_names =[]\n",
    "for key,value in test.class_indices.items():\n",
    "  target_names.append(f'condition: {key}')"
   ]
  },
  {
   "cell_type": "code",
   "execution_count": null,
   "id": "4c9c58a2",
   "metadata": {},
   "outputs": [],
   "source": [
    "from sklearn import metrics\n",
    "report=metrics.classification_report(y_real,all_pred,target_names=target_names)\n",
    "conf_efficnet2=metrics.confusion_matrix(y_real,all_pred)"
   ]
  },
  {
   "cell_type": "code",
   "execution_count": null,
   "id": "6a3ae53f",
   "metadata": {},
   "outputs": [],
   "source": [
    "import itertools\n",
    "def plot_confusion_matrix(cnf_matrix, numbers_type='numbers_and_percentage', class_names=target_names, title='Confusion matrix', cmap=plt.cm.Blues, file_name='confusionmatrix.png'):\n",
    "    combined = True\n",
    "    cnf_matrix_normalized = cnf_matrix.astype('float') / cnf_matrix.sum(axis=1)[:, np.newaxis]\n",
    "    plt.figure(figsize=(10,10))\n",
    "    plt.imshow(cnf_matrix, interpolation='nearest', cmap=cmap)\n",
    "    plt.title(title)\n",
    "    plt.colorbar()\n",
    "    tick_marks = np.arange(len(class_names))\n",
    "    plt.xticks(tick_marks, class_names, rotation=45)\n",
    "    plt.yticks(tick_marks, class_names)\n",
    " thresh = 0.8*cnf_matrix.max() / 1.\n",
    "    for i, j in itertools.product(range(cnf_matrix.shape[0]), range(cnf_matrix.shape[1])):\n",
    "        if numbers_type == 'numbers_and_percentage':\n",
    "            st1 = '{:.2f}%'.format(100 * cnf_matrix_normalized[i, j])\n",
    "            st2 = '({:2d})'.format(cnf_matrix[i, j])\n",
    "            plt.text(j, i, st1+st2,\n",
    "                     horizontalalignment=\"center\", verticalalignment='bottom',\n",
    "                     color=\"white\" if cnf_matrix[i, j] > thresh else \"black\")\n",
    "\n",
    "        elif numbers_type == 'percentage':\n",
    "            fmt = '.2f'\n",
    "            plt.text(j, i, format(cnf_matrix_normalized[i, j], fmt),\n",
    "                     horizontalalignment=\"center\", verticalalignment='bottom',\n",
    "                     color=\"white\" if cnf_matrix[i, j] > thresh else \"black\")\n",
    "        else:\n",
    "            fmt = 'd'\n",
    "              plt.text(j, i, format(cnf_matrix[i, j], fmt),\n",
    "                     horizontalalignment=\"center\", verticalalignment='bottom',\n",
    "                     color=\"white\" if cnf_matrix[i, j] > thresh else \"black\")\n",
    "\n",
    "    plt.tight_layout()\n",
    "    plt.ylabel('True label')\n",
    "    plt.xlabel('Predicted label')\n",
    "    plt.savefig(file_name)\n",
    "\n",
    "    return"
   ]
  },
  {
   "cell_type": "code",
   "execution_count": null,
   "id": "a9d369f1",
   "metadata": {},
   "outputs": [],
   "source": [
    "plot_confusion_matrix(conf_efficnet2)"
   ]
  }
 ],
 "metadata": {
  "kernelspec": {
   "display_name": "Python 3 (ipykernel)",
   "language": "python",
   "name": "python3"
  },
  "language_info": {
   "codemirror_mode": {
    "name": "ipython",
    "version": 3
   },
   "file_extension": ".py",
   "mimetype": "text/x-python",
   "name": "python",
   "nbconvert_exporter": "python",
   "pygments_lexer": "ipython3",
   "version": "3.9.7"
  }
 },
 "nbformat": 4,
 "nbformat_minor": 5
}
